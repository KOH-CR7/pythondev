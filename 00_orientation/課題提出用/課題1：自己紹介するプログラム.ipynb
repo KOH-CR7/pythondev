{
 "cells": [
  {
   "cell_type": "code",
   "execution_count": 37,
   "id": "28d7e4e5",
   "metadata": {},
   "outputs": [
    {
     "name": "stdout",
     "output_type": "stream",
     "text": [
      "私の名前はkoheiです。来年で33歳になります。\n"
     ]
    }
   ],
   "source": [
    "name=input(\"名前を入力してください:\")\n",
    "num=input(\"現在の年齢を入力してください\")\n",
    "num=int(num)\n",
    "num=num+1\n",
    "print(\"私の名前は\"+name+\"です。\"+\"来年で\"+str(num)+\"歳になります。\")"
   ]
  },
  {
   "cell_type": "code",
   "execution_count": null,
   "id": "785b16e5",
   "metadata": {},
   "outputs": [
    {
     "name": "stdout",
     "output_type": "stream",
     "text": [
      "私の名前はkoheiです。来年で33歳になります。\n"
     ]
    }
   ],
   "source": [
    "name=input(\"名前を入力してください:\")\n",
    "num=input(\"現在の年齢を入力してください\")\n",
    "num=int(num)\n",
    "num=num+1\n",
    "print(f\"私の名前は{name}です。来年で{num}歳になります。\")"
   ]
  }
 ],
 "metadata": {
  "kernelspec": {
   "display_name": ".venv",
   "language": "python",
   "name": "python3"
  },
  "language_info": {
   "codemirror_mode": {
    "name": "ipython",
    "version": 3
   },
   "file_extension": ".py",
   "mimetype": "text/x-python",
   "name": "python",
   "nbconvert_exporter": "python",
   "pygments_lexer": "ipython3",
   "version": "3.12.10"
  }
 },
 "nbformat": 4,
 "nbformat_minor": 5
}
