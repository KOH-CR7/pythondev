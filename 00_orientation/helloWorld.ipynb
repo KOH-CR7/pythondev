{
 "cells": [
  {
   "cell_type": "markdown",
   "id": "da23d2e2",
   "metadata": {},
   "source": [
    "#見出し1\n",
    "###見出し3\n",
    "##見出し2\n",
    "**テスト** \n",
    "-　テスト\n",
    "\n",
    "\n",
    "|test|"
   ]
  },
  {
   "cell_type": "code",
   "execution_count": 1,
   "id": "ec8ea489",
   "metadata": {},
   "outputs": [
    {
     "name": "stdout",
     "output_type": "stream",
     "text": [
      "Hello! World!\n",
      "こんにちは！ 世界！\n"
     ]
    }
   ],
   "source": [
    "print(\"Hello! World!\")\n",
    "print(\"こんにちは！ 世界！\")"
   ]
  },
  {
   "cell_type": "code",
   "execution_count": null,
   "id": "cbce5b84",
   "metadata": {},
   "outputs": [],
   "source": []
  }
 ],
 "metadata": {
  "kernelspec": {
   "display_name": ".venv",
   "language": "python",
   "name": "python3"
  },
  "language_info": {
   "codemirror_mode": {
    "name": "ipython",
    "version": 3
   },
   "file_extension": ".py",
   "mimetype": "text/x-python",
   "name": "python",
   "nbconvert_exporter": "python",
   "pygments_lexer": "ipython3",
   "version": "3.12.10"
  }
 },
 "nbformat": 4,
 "nbformat_minor": 5
}
