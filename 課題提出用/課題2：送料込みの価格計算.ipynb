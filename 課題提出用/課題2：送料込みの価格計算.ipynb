{
 "cells": [
  {
   "cell_type": "code",
   "execution_count": 54,
   "id": "160cea58",
   "metadata": {},
   "outputs": [
    {
     "name": "stdout",
     "output_type": "stream",
     "text": [
      "税抜価格を入力してください：1800\n",
      "送料として350円かかります\n",
      "送料込みの価格は2330円です\n"
     ]
    }
   ],
   "source": [
    "price=int(input(\"税抜価格を入力してください:\"))\n",
    "num=round(price*1.1)\n",
    "if num>=2000:\n",
    " print(f\"税抜価格を入力してください：{price}\")\n",
    " print(\"送料は無料です\")\n",
    " print(f\"送料込みの価格は{num}円です。\")\n",
    "\n",
    "else:\n",
    "  if num<=2000:\n",
    "    print(f\"税抜価格を入力してください：{price}\")\n",
    "    print(\"送料として350円かかります\")\n",
    "    print(f\"送料込みの価格は{num+350}円です\")\n",
    "\n"
   ]
  }
 ],
 "metadata": {
  "kernelspec": {
   "display_name": ".venv",
   "language": "python",
   "name": "python3"
  },
  "language_info": {
   "codemirror_mode": {
    "name": "ipython",
    "version": 3
   },
   "file_extension": ".py",
   "mimetype": "text/x-python",
   "name": "python",
   "nbconvert_exporter": "python",
   "pygments_lexer": "ipython3",
   "version": "3.12.10"
  }
 },
 "nbformat": 4,
 "nbformat_minor": 5
}
