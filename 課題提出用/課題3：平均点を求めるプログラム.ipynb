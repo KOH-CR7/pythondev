{
 "cells": [
  {
   "cell_type": "code",
   "execution_count": 2,
   "id": "5abd091e",
   "metadata": {},
   "outputs": [
    {
     "name": "stdout",
     "output_type": "stream",
     "text": [
      "点数を入力してください：65\n",
      "点数を入力してください：42\n",
      "点数を入力してください：87\n",
      "点数を入力してください：99\n",
      "点数を入力してください：48\n",
      "点数を入力してください：73\n",
      "点数を入力してください：100\n",
      "点数を入力してください：61\n",
      "点数を入力してください：89\n",
      "点数を入力してください：70\n",
      "点数を入力してください：-1\n",
      "10人のテストの平均点は73.4点です\n"
     ]
    }
   ],
   "source": [
    "total_score=0\n",
    "count=0\n",
    "\n",
    "while True:\n",
    "\n",
    "    score=int(input(\"点数を入力してください：\"))\n",
    "    print(f\"点数を入力してください：{score}\")\n",
    "    if score == -1:\n",
    "        break\n",
    "    total_score+= score\n",
    "    count +=1\n",
    "\n",
    "average_score=total_score/count\n",
    "print(f\"{count}人のテストの平均点は{average_score}点です\")\n",
    "\n",
    "    "
   ]
  }
 ],
 "metadata": {
  "kernelspec": {
   "display_name": ".venv",
   "language": "python",
   "name": "python3"
  },
  "language_info": {
   "codemirror_mode": {
    "name": "ipython",
    "version": 3
   },
   "file_extension": ".py",
   "mimetype": "text/x-python",
   "name": "python",
   "nbconvert_exporter": "python",
   "pygments_lexer": "ipython3",
   "version": "3.12.10"
  }
 },
 "nbformat": 4,
 "nbformat_minor": 5
}
